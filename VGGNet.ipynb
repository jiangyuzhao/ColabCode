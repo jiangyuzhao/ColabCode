{
  "nbformat": 4,
  "nbformat_minor": 0,
  "metadata": {
    "colab": {
      "name": "VGGNet",
      "provenance": [],
      "collapsed_sections": [],
      "include_colab_link": true
    },
    "kernelspec": {
      "name": "python3",
      "display_name": "Python 3"
    },
    "accelerator": "GPU"
  },
  "cells": [
    {
      "cell_type": "markdown",
      "metadata": {
        "id": "view-in-github",
        "colab_type": "text"
      },
      "source": [
        "<a href=\"https://colab.research.google.com/github/jiangyuzhao/ColabCode/blob/master/VGGNet.ipynb\" target=\"_parent\"><img src=\"https://colab.research.google.com/assets/colab-badge.svg\" alt=\"Open In Colab\"/></a>"
      ]
    },
    {
      "cell_type": "code",
      "metadata": {
        "id": "ZCES0aV2KLzp",
        "colab_type": "code",
        "outputId": "4f308e07-0499-4570-cd61-8dcc63d1dcdd",
        "colab": {
          "base_uri": "https://localhost:8080/",
          "height": 625
        }
      },
      "source": [
        "!pip install --upgrade pip\n",
        "!pip install tensorflow-gpu"
      ],
      "execution_count": 39,
      "outputs": [
        {
          "output_type": "stream",
          "text": [
            "Requirement already up-to-date: pip in /usr/local/lib/python3.6/dist-packages (19.3.1)\n",
            "Requirement already satisfied: tensorflow-gpu in /usr/local/lib/python3.6/dist-packages (2.0.0)\n",
            "Requirement already satisfied: grpcio>=1.8.6 in /usr/local/lib/python3.6/dist-packages (from tensorflow-gpu) (1.15.0)\n",
            "Requirement already satisfied: google-pasta>=0.1.6 in /usr/local/lib/python3.6/dist-packages (from tensorflow-gpu) (0.1.8)\n",
            "Requirement already satisfied: numpy<2.0,>=1.16.0 in /usr/local/lib/python3.6/dist-packages (from tensorflow-gpu) (1.17.3)\n",
            "Requirement already satisfied: opt-einsum>=2.3.2 in /usr/local/lib/python3.6/dist-packages (from tensorflow-gpu) (3.1.0)\n",
            "Requirement already satisfied: wheel>=0.26 in /usr/local/lib/python3.6/dist-packages (from tensorflow-gpu) (0.33.6)\n",
            "Requirement already satisfied: absl-py>=0.7.0 in /usr/local/lib/python3.6/dist-packages (from tensorflow-gpu) (0.8.1)\n",
            "Requirement already satisfied: gast==0.2.2 in /usr/local/lib/python3.6/dist-packages (from tensorflow-gpu) (0.2.2)\n",
            "Requirement already satisfied: keras-preprocessing>=1.0.5 in /usr/local/lib/python3.6/dist-packages (from tensorflow-gpu) (1.1.0)\n",
            "Requirement already satisfied: protobuf>=3.6.1 in /usr/local/lib/python3.6/dist-packages (from tensorflow-gpu) (3.10.0)\n",
            "Requirement already satisfied: tensorboard<2.1.0,>=2.0.0 in /usr/local/lib/python3.6/dist-packages (from tensorflow-gpu) (2.0.1)\n",
            "Requirement already satisfied: termcolor>=1.1.0 in /usr/local/lib/python3.6/dist-packages (from tensorflow-gpu) (1.1.0)\n",
            "Requirement already satisfied: six>=1.10.0 in /usr/local/lib/python3.6/dist-packages (from tensorflow-gpu) (1.12.0)\n",
            "Requirement already satisfied: tensorflow-estimator<2.1.0,>=2.0.0 in /usr/local/lib/python3.6/dist-packages (from tensorflow-gpu) (2.0.1)\n",
            "Requirement already satisfied: keras-applications>=1.0.8 in /usr/local/lib/python3.6/dist-packages (from tensorflow-gpu) (1.0.8)\n",
            "Requirement already satisfied: wrapt>=1.11.1 in /usr/local/lib/python3.6/dist-packages (from tensorflow-gpu) (1.11.2)\n",
            "Requirement already satisfied: astor>=0.6.0 in /usr/local/lib/python3.6/dist-packages (from tensorflow-gpu) (0.8.0)\n",
            "Requirement already satisfied: setuptools in /usr/local/lib/python3.6/dist-packages (from protobuf>=3.6.1->tensorflow-gpu) (41.4.0)\n",
            "Requirement already satisfied: markdown>=2.6.8 in /usr/local/lib/python3.6/dist-packages (from tensorboard<2.1.0,>=2.0.0->tensorflow-gpu) (3.1.1)\n",
            "Requirement already satisfied: google-auth<2,>=1.6.3 in /usr/local/lib/python3.6/dist-packages (from tensorboard<2.1.0,>=2.0.0->tensorflow-gpu) (1.7.0)\n",
            "Requirement already satisfied: werkzeug>=0.11.15 in /usr/local/lib/python3.6/dist-packages (from tensorboard<2.1.0,>=2.0.0->tensorflow-gpu) (0.16.0)\n",
            "Requirement already satisfied: google-auth-oauthlib<0.5,>=0.4.1 in /usr/local/lib/python3.6/dist-packages (from tensorboard<2.1.0,>=2.0.0->tensorflow-gpu) (0.4.1)\n",
            "Requirement already satisfied: h5py in /usr/local/lib/python3.6/dist-packages (from keras-applications>=1.0.8->tensorflow-gpu) (2.8.0)\n",
            "Requirement already satisfied: rsa<4.1,>=3.1.4 in /usr/local/lib/python3.6/dist-packages (from google-auth<2,>=1.6.3->tensorboard<2.1.0,>=2.0.0->tensorflow-gpu) (4.0)\n",
            "Requirement already satisfied: pyasn1-modules>=0.2.1 in /usr/local/lib/python3.6/dist-packages (from google-auth<2,>=1.6.3->tensorboard<2.1.0,>=2.0.0->tensorflow-gpu) (0.2.7)\n",
            "Requirement already satisfied: cachetools<3.2,>=2.0.0 in /usr/local/lib/python3.6/dist-packages (from google-auth<2,>=1.6.3->tensorboard<2.1.0,>=2.0.0->tensorflow-gpu) (3.1.1)\n",
            "Requirement already satisfied: requests-oauthlib>=0.7.0 in /usr/local/lib/python3.6/dist-packages (from google-auth-oauthlib<0.5,>=0.4.1->tensorboard<2.1.0,>=2.0.0->tensorflow-gpu) (1.3.0)\n",
            "Requirement already satisfied: pyasn1>=0.1.3 in /usr/local/lib/python3.6/dist-packages (from rsa<4.1,>=3.1.4->google-auth<2,>=1.6.3->tensorboard<2.1.0,>=2.0.0->tensorflow-gpu) (0.4.7)\n",
            "Requirement already satisfied: oauthlib>=3.0.0 in /usr/local/lib/python3.6/dist-packages (from requests-oauthlib>=0.7.0->google-auth-oauthlib<0.5,>=0.4.1->tensorboard<2.1.0,>=2.0.0->tensorflow-gpu) (3.1.0)\n",
            "Requirement already satisfied: requests>=2.0.0 in /usr/local/lib/python3.6/dist-packages (from requests-oauthlib>=0.7.0->google-auth-oauthlib<0.5,>=0.4.1->tensorboard<2.1.0,>=2.0.0->tensorflow-gpu) (2.21.0)\n",
            "Requirement already satisfied: idna<2.9,>=2.5 in /usr/local/lib/python3.6/dist-packages (from requests>=2.0.0->requests-oauthlib>=0.7.0->google-auth-oauthlib<0.5,>=0.4.1->tensorboard<2.1.0,>=2.0.0->tensorflow-gpu) (2.8)\n",
            "Requirement already satisfied: chardet<3.1.0,>=3.0.2 in /usr/local/lib/python3.6/dist-packages (from requests>=2.0.0->requests-oauthlib>=0.7.0->google-auth-oauthlib<0.5,>=0.4.1->tensorboard<2.1.0,>=2.0.0->tensorflow-gpu) (3.0.4)\n",
            "Requirement already satisfied: certifi>=2017.4.17 in /usr/local/lib/python3.6/dist-packages (from requests>=2.0.0->requests-oauthlib>=0.7.0->google-auth-oauthlib<0.5,>=0.4.1->tensorboard<2.1.0,>=2.0.0->tensorflow-gpu) (2019.9.11)\n",
            "Requirement already satisfied: urllib3<1.25,>=1.21.1 in /usr/local/lib/python3.6/dist-packages (from requests>=2.0.0->requests-oauthlib>=0.7.0->google-auth-oauthlib<0.5,>=0.4.1->tensorboard<2.1.0,>=2.0.0->tensorflow-gpu) (1.24.3)\n"
          ],
          "name": "stdout"
        }
      ]
    },
    {
      "cell_type": "code",
      "metadata": {
        "id": "c9a7uRenftVz",
        "colab_type": "code",
        "colab": {
          "base_uri": "https://localhost:8080/",
          "height": 50
        },
        "outputId": "09baf337-51f1-4f95-a278-f7e3c5780717"
      },
      "source": [
        "import tensorflow as tf\n",
        "print(tf.__version__)\n",
        "# # 准备TPU环境\n",
        "# import os\n",
        "# # This address identifies the TPU we'll use when configuring TensorFlow.\n",
        "# TPU_WORKER = 'grpc://' + os.environ['COLAB_TPU_ADDR']\n",
        "# print(TPU_WORKER)\n",
        "tf.test.gpu_device_name()"
      ],
      "execution_count": 40,
      "outputs": [
        {
          "output_type": "stream",
          "text": [
            "2.0.0\n"
          ],
          "name": "stdout"
        },
        {
          "output_type": "execute_result",
          "data": {
            "text/plain": [
              "'/device:GPU:0'"
            ]
          },
          "metadata": {
            "tags": []
          },
          "execution_count": 40
        }
      ]
    },
    {
      "cell_type": "code",
      "metadata": {
        "id": "WIEPwijRqlXp",
        "colab_type": "code",
        "colab": {
          "base_uri": "https://localhost:8080/",
          "height": 50
        },
        "outputId": "de5a6b1d-a131-4746-dd5a-3e6ec1cc3a2c"
      },
      "source": [
        "!ls\n",
        "!pwd"
      ],
      "execution_count": 41,
      "outputs": [
        {
          "output_type": "stream",
          "text": [
            "sample_data  vgg_weights.txt\n",
            "/content\n"
          ],
          "name": "stdout"
        }
      ]
    },
    {
      "cell_type": "code",
      "metadata": {
        "id": "VZDIb5N4Lk-1",
        "colab_type": "code",
        "colab": {}
      },
      "source": [
        "cifar10 = tf.keras.datasets.cifar10\n",
        "(x_train, y_train), (x_test, y_test) = cifar10.load_data()\n",
        "x_train = x_train.reshape(x_train.shape[0], 32, 32, 3)\n",
        "x_test = x_test.reshape(x_test.shape[0], 32, 32, 3)"
      ],
      "execution_count": 0,
      "outputs": []
    },
    {
      "cell_type": "code",
      "metadata": {
        "id": "-nmDRYC-q8Zk",
        "colab_type": "code",
        "colab": {
          "base_uri": "https://localhost:8080/",
          "height": 84
        },
        "outputId": "52b99b4d-89e5-4152-9511-d411a042103b"
      },
      "source": [
        "# 显示形状\n",
        "print(x_train.shape)\n",
        "print(y_train.shape)\n",
        "print(x_test.shape)\n",
        "print(y_test.shape)"
      ],
      "execution_count": 43,
      "outputs": [
        {
          "output_type": "stream",
          "text": [
            "(50000, 32, 32, 3)\n",
            "(50000, 1)\n",
            "(10000, 32, 32, 3)\n",
            "(10000, 1)\n"
          ],
          "name": "stdout"
        }
      ]
    },
    {
      "cell_type": "code",
      "metadata": {
        "id": "AWQAlv9QrPOn",
        "colab_type": "code",
        "colab": {}
      },
      "source": [
        "import numpy as np\n",
        "\n",
        "# 对数据集进行打乱\n",
        "np.random.seed(116)\n",
        "np.random.shuffle(x_train)\n",
        "np.random.seed(116)\n",
        "np.random.shuffle(y_train)"
      ],
      "execution_count": 0,
      "outputs": []
    },
    {
      "cell_type": "code",
      "metadata": {
        "id": "goW0VS_Lrm8L",
        "colab_type": "code",
        "colab": {}
      },
      "source": [
        "from tensorflow.keras.preprocessing.image import ImageDataGenerator\n",
        "\n",
        "# 数据增强\n",
        "x_train, x_test = x_train / 255.0, x_test / 255.0\n",
        "image_gen_train = ImageDataGenerator(\n",
        "    rotation_range=45,  # 随机45度旋转\n",
        "    width_shift_range=0.15,  # 宽度偏移\n",
        "    height_shift_range=0.15,  # 高度偏移\n",
        "    horizontal_flip=True,  # 水平翻转\n",
        "    zoom_range=0.5  # 将图像随机缩放到50％\n",
        ")\n",
        "image_gen_train.fit(x_train)"
      ],
      "execution_count": 0,
      "outputs": []
    },
    {
      "cell_type": "code",
      "metadata": {
        "id": "Ur6kIys6tk41",
        "colab_type": "code",
        "colab": {}
      },
      "source": [
        "from tensorflow.keras import Model\n",
        "from tensorflow.keras.layers import Conv2D, BatchNormalization, Activation, MaxPool2D, Dropout, Flatten, Dense\n",
        "\n",
        "# 基类模型定义\n",
        "class VGGBlock(Model):\n",
        "  def __init__(self, num_filters, input_shape=None):\n",
        "    super(VGGBlock, self).__init__()\n",
        "    if not input_shape is None:\n",
        "      self.model = tf.keras.models.Sequential([\n",
        "        Conv2D(num_filters, kernel_size=(3, 3), strides=1, padding='same', input_shape=input_shape),\n",
        "        BatchNormalization(),\n",
        "        Activation('relu'),\n",
        "        Conv2D(num_filters, kernel_size=(3, 3), strides=1, padding='same'),\n",
        "        BatchNormalization(),\n",
        "        Activation('relu'),\n",
        "        MaxPool2D(pool_size=(2, 2), strides=2, padding='same'),\n",
        "        Dropout(0.4)])\n",
        "    else:\n",
        "      self.model = tf.keras.models.Sequential([\n",
        "        Conv2D(num_filters, kernel_size=(3, 3), strides=1, padding='same'),\n",
        "        BatchNormalization(),\n",
        "        Activation('relu'),\n",
        "        Conv2D(num_filters, kernel_size=(3, 3), strides=1, padding='same'),\n",
        "        BatchNormalization(),\n",
        "        Activation('relu'),\n",
        "        MaxPool2D(pool_size=(2, 2), strides=2, padding='same'),\n",
        "        Dropout(0.4)])\n",
        "  def call(self, x, training=None):\n",
        "    return self.model(x, training=training)\n"
      ],
      "execution_count": 0,
      "outputs": []
    },
    {
      "cell_type": "code",
      "metadata": {
        "id": "NQmFH5rmsMf5",
        "colab_type": "code",
        "colab": {}
      },
      "source": [
        "# 模型定义\n",
        "class VGGModel(Model):\n",
        "    def __init__(self):\n",
        "        super(VGGModel, self).__init__()\n",
        "\n",
        "        self.vgg_block1 = VGGBlock(64, input_shape=(32, 32, 3))\n",
        "        self.vgg_block2 = VGGBlock(128)\n",
        "        \n",
        "        self.c5 = Conv2D(256, kernel_size=(3, 3), strides=1, padding='same')\n",
        "        self.bn5 = BatchNormalization()\n",
        "        self.ac5 = Activation('relu')\n",
        "        self.vgg_block3 = VGGBlock(256)\n",
        "        \n",
        "        self.c8 = Conv2D(512, kernel_size=(3, 3), strides=1, padding='same')\n",
        "        self.bn8 = BatchNormalization()\n",
        "        self.ac8 = Activation('relu')\n",
        "        self.vgg_block4 = VGGBlock(512)\n",
        "\n",
        "        self.c11 = Conv2D(512, kernel_size=(3, 3), strides=1, padding='same')\n",
        "        self.bn11 = BatchNormalization()\n",
        "        self.ac11 = Activation('relu')\n",
        "        self.vgg_block5 = VGGBlock(512)\n",
        "\n",
        "        self.flatten = Flatten()\n",
        "        self.f14 = Dense(4096, activation='relu')\n",
        "        self.d14 = Dropout(0.4)\n",
        "        self.f15 = Dense(4096, activation='relu')\n",
        "        self.d15 = Dropout(0.4)\n",
        "        self.f16 = Dense(10, activation='softmax')\n",
        "\n",
        "    def call(self, x):\n",
        "        x = self.vgg_block1(x)\n",
        "        x = self.vgg_block2(x)\n",
        "        x = self.c5(x)\n",
        "        x = self.bn5(x)\n",
        "        x = self.ac5(x)\n",
        "        x = self.vgg_block3(x)\n",
        "        x = self.c8(x)\n",
        "        x = self.bn8(x)\n",
        "        x = self.ac8(x)\n",
        "        x = self.vgg_block4(x)\n",
        "        x = self.c11(x)\n",
        "        x = self.bn11(x)\n",
        "        x = self.ac11(x)\n",
        "        x = self.vgg_block5(x)\n",
        "        x = self.flatten(x)\n",
        "        x = self.f14(x)\n",
        "        x = self.d14(x)\n",
        "        x = self.f15(x)\n",
        "        x = self.d15(x)\n",
        "        y = self.f16(x)\n",
        "        return y"
      ],
      "execution_count": 0,
      "outputs": []
    },
    {
      "cell_type": "code",
      "metadata": {
        "id": "6PEYOvoR0rFn",
        "colab_type": "code",
        "colab": {
          "base_uri": "https://localhost:8080/",
          "height": 1000
        },
        "outputId": "e6bd8ecd-06a0-4d1c-8cf6-cc9518aff3c3"
      },
      "source": [
        "model = VGGModel()\n",
        "\n",
        "model.compile(optimizer=tf.keras.optimizers.Adam(learning_rate=1e-4),\n",
        "              loss='sparse_categorical_crossentropy',\n",
        "              metrics=['sparse_categorical_accuracy'])\n",
        "\n",
        "checkpoint_save_path = \"./checkpoint/cifar_10.ckpt\"\n",
        "cp_callback = tf.keras.callbacks.ModelCheckpoint(filepath=checkpoint_save_path,\n",
        "                          save_weights_only=True,\n",
        "                          # monitor='loss',\n",
        "                          # save_best_only=True,\n",
        "                          verbose=2)\n",
        "history = model.fit(image_gen_train.flow(x_train, y_train, batch_size=64), epochs=100, validation_data=(x_test, y_test),\n",
        "                    validation_freq=1)\n"
      ],
      "execution_count": 48,
      "outputs": [
        {
          "output_type": "stream",
          "text": [
            "Train for 782 steps, validate on 10000 samples\n",
            "Epoch 1/100\n",
            "782/782 [==============================] - 45s 57ms/step - loss: 2.0824 - sparse_categorical_accuracy: 0.2133 - val_loss: 2.3472 - val_sparse_categorical_accuracy: 0.2139\n",
            "Epoch 2/100\n",
            "782/782 [==============================] - 43s 55ms/step - loss: 1.7920 - sparse_categorical_accuracy: 0.3320 - val_loss: 2.1731 - val_sparse_categorical_accuracy: 0.2657\n",
            "Epoch 3/100\n",
            "782/782 [==============================] - 43s 55ms/step - loss: 1.6587 - sparse_categorical_accuracy: 0.3946 - val_loss: 2.1631 - val_sparse_categorical_accuracy: 0.2909\n",
            "Epoch 4/100\n",
            "782/782 [==============================] - 43s 55ms/step - loss: 1.5790 - sparse_categorical_accuracy: 0.4274 - val_loss: 1.7552 - val_sparse_categorical_accuracy: 0.3748\n",
            "Epoch 5/100\n",
            "782/782 [==============================] - 43s 55ms/step - loss: 1.5130 - sparse_categorical_accuracy: 0.4585 - val_loss: 2.0179 - val_sparse_categorical_accuracy: 0.3731\n",
            "Epoch 6/100\n",
            "782/782 [==============================] - 43s 55ms/step - loss: 1.4528 - sparse_categorical_accuracy: 0.4784 - val_loss: 1.9490 - val_sparse_categorical_accuracy: 0.3758\n",
            "Epoch 7/100\n",
            "782/782 [==============================] - 43s 55ms/step - loss: 1.3930 - sparse_categorical_accuracy: 0.5050 - val_loss: 1.6099 - val_sparse_categorical_accuracy: 0.4517\n",
            "Epoch 8/100\n",
            "782/782 [==============================] - 42s 54ms/step - loss: 1.3457 - sparse_categorical_accuracy: 0.5211 - val_loss: 1.7167 - val_sparse_categorical_accuracy: 0.4693\n",
            "Epoch 9/100\n",
            "782/782 [==============================] - 43s 55ms/step - loss: 1.3028 - sparse_categorical_accuracy: 0.5378 - val_loss: 1.2825 - val_sparse_categorical_accuracy: 0.5468\n",
            "Epoch 10/100\n",
            "782/782 [==============================] - 43s 54ms/step - loss: 1.2689 - sparse_categorical_accuracy: 0.5517 - val_loss: 1.4589 - val_sparse_categorical_accuracy: 0.4910\n",
            "Epoch 11/100\n",
            "782/782 [==============================] - 43s 55ms/step - loss: 1.2402 - sparse_categorical_accuracy: 0.5640 - val_loss: 1.1622 - val_sparse_categorical_accuracy: 0.5885\n",
            "Epoch 12/100\n",
            "782/782 [==============================] - 43s 54ms/step - loss: 1.2073 - sparse_categorical_accuracy: 0.5780 - val_loss: 1.8630 - val_sparse_categorical_accuracy: 0.4379\n",
            "Epoch 13/100\n",
            "782/782 [==============================] - 43s 55ms/step - loss: 1.1846 - sparse_categorical_accuracy: 0.5853 - val_loss: 1.2303 - val_sparse_categorical_accuracy: 0.5753\n",
            "Epoch 14/100\n",
            "782/782 [==============================] - 43s 55ms/step - loss: 1.1531 - sparse_categorical_accuracy: 0.5977 - val_loss: 1.0925 - val_sparse_categorical_accuracy: 0.6068\n",
            "Epoch 15/100\n",
            "782/782 [==============================] - 42s 54ms/step - loss: 1.1344 - sparse_categorical_accuracy: 0.6049 - val_loss: 1.2066 - val_sparse_categorical_accuracy: 0.5881\n",
            "Epoch 16/100\n",
            "782/782 [==============================] - 43s 55ms/step - loss: 1.1065 - sparse_categorical_accuracy: 0.6155 - val_loss: 1.3675 - val_sparse_categorical_accuracy: 0.5640\n",
            "Epoch 17/100\n",
            "782/782 [==============================] - 43s 54ms/step - loss: 1.0856 - sparse_categorical_accuracy: 0.6243 - val_loss: 1.2219 - val_sparse_categorical_accuracy: 0.6105\n",
            "Epoch 18/100\n",
            "782/782 [==============================] - 43s 55ms/step - loss: 1.0675 - sparse_categorical_accuracy: 0.6320 - val_loss: 1.0358 - val_sparse_categorical_accuracy: 0.6427\n",
            "Epoch 19/100\n",
            "782/782 [==============================] - 42s 54ms/step - loss: 1.0445 - sparse_categorical_accuracy: 0.6412 - val_loss: 1.0043 - val_sparse_categorical_accuracy: 0.6581\n",
            "Epoch 20/100\n",
            "782/782 [==============================] - 43s 55ms/step - loss: 1.0323 - sparse_categorical_accuracy: 0.6432 - val_loss: 1.7603 - val_sparse_categorical_accuracy: 0.5116\n",
            "Epoch 21/100\n",
            "782/782 [==============================] - 43s 55ms/step - loss: 1.0081 - sparse_categorical_accuracy: 0.6528 - val_loss: 1.1390 - val_sparse_categorical_accuracy: 0.6342\n",
            "Epoch 22/100\n",
            "782/782 [==============================] - 42s 54ms/step - loss: 1.0036 - sparse_categorical_accuracy: 0.6552 - val_loss: 1.1970 - val_sparse_categorical_accuracy: 0.6327\n",
            "Epoch 23/100\n",
            "782/782 [==============================] - 43s 54ms/step - loss: 0.9831 - sparse_categorical_accuracy: 0.6600 - val_loss: 0.8586 - val_sparse_categorical_accuracy: 0.7042\n",
            "Epoch 24/100\n",
            "782/782 [==============================] - 43s 55ms/step - loss: 0.9709 - sparse_categorical_accuracy: 0.6660 - val_loss: 1.2270 - val_sparse_categorical_accuracy: 0.6301\n",
            "Epoch 25/100\n",
            "782/782 [==============================] - 43s 54ms/step - loss: 0.9609 - sparse_categorical_accuracy: 0.6701 - val_loss: 0.8730 - val_sparse_categorical_accuracy: 0.7107\n",
            "Epoch 26/100\n",
            "782/782 [==============================] - 43s 55ms/step - loss: 0.9416 - sparse_categorical_accuracy: 0.6789 - val_loss: 0.8156 - val_sparse_categorical_accuracy: 0.7287\n",
            "Epoch 27/100\n",
            "782/782 [==============================] - 43s 55ms/step - loss: 0.9283 - sparse_categorical_accuracy: 0.6798 - val_loss: 0.8908 - val_sparse_categorical_accuracy: 0.7098\n",
            "Epoch 28/100\n",
            "782/782 [==============================] - 43s 55ms/step - loss: 0.9188 - sparse_categorical_accuracy: 0.6853 - val_loss: 0.8787 - val_sparse_categorical_accuracy: 0.7176\n",
            "Epoch 29/100\n",
            "782/782 [==============================] - 42s 54ms/step - loss: 0.9073 - sparse_categorical_accuracy: 0.6915 - val_loss: 0.9889 - val_sparse_categorical_accuracy: 0.6821\n",
            "Epoch 30/100\n",
            "782/782 [==============================] - 43s 55ms/step - loss: 0.9011 - sparse_categorical_accuracy: 0.6921 - val_loss: 0.8073 - val_sparse_categorical_accuracy: 0.7325\n",
            "Epoch 31/100\n",
            "782/782 [==============================] - 42s 54ms/step - loss: 0.8839 - sparse_categorical_accuracy: 0.6986 - val_loss: 0.9271 - val_sparse_categorical_accuracy: 0.7056\n",
            "Epoch 32/100\n",
            "782/782 [==============================] - 43s 54ms/step - loss: 0.8787 - sparse_categorical_accuracy: 0.7000 - val_loss: 0.7050 - val_sparse_categorical_accuracy: 0.7607\n",
            "Epoch 33/100\n",
            "782/782 [==============================] - 43s 54ms/step - loss: 0.8664 - sparse_categorical_accuracy: 0.7057 - val_loss: 0.7639 - val_sparse_categorical_accuracy: 0.7511\n",
            "Epoch 34/100\n",
            "782/782 [==============================] - 43s 54ms/step - loss: 0.8603 - sparse_categorical_accuracy: 0.7066 - val_loss: 0.7904 - val_sparse_categorical_accuracy: 0.7465\n",
            "Epoch 35/100\n",
            "782/782 [==============================] - 43s 54ms/step - loss: 0.8535 - sparse_categorical_accuracy: 0.7092 - val_loss: 1.0158 - val_sparse_categorical_accuracy: 0.6803\n",
            "Epoch 36/100\n",
            "782/782 [==============================] - 42s 54ms/step - loss: 0.8393 - sparse_categorical_accuracy: 0.7129 - val_loss: 0.7194 - val_sparse_categorical_accuracy: 0.7539\n",
            "Epoch 37/100\n",
            "782/782 [==============================] - 42s 54ms/step - loss: 0.8317 - sparse_categorical_accuracy: 0.7179 - val_loss: 0.8074 - val_sparse_categorical_accuracy: 0.7284\n",
            "Epoch 38/100\n",
            "782/782 [==============================] - 42s 54ms/step - loss: 0.8229 - sparse_categorical_accuracy: 0.7201 - val_loss: 0.9438 - val_sparse_categorical_accuracy: 0.7072\n",
            "Epoch 39/100\n",
            "782/782 [==============================] - 42s 54ms/step - loss: 0.8143 - sparse_categorical_accuracy: 0.7238 - val_loss: 0.7516 - val_sparse_categorical_accuracy: 0.7513\n",
            "Epoch 40/100\n",
            "782/782 [==============================] - 43s 55ms/step - loss: 0.7998 - sparse_categorical_accuracy: 0.7295 - val_loss: 0.6943 - val_sparse_categorical_accuracy: 0.7625\n",
            "Epoch 41/100\n",
            "782/782 [==============================] - 43s 55ms/step - loss: 0.8014 - sparse_categorical_accuracy: 0.7276 - val_loss: 0.8103 - val_sparse_categorical_accuracy: 0.7354\n",
            "Epoch 42/100\n",
            "782/782 [==============================] - 43s 55ms/step - loss: 0.7922 - sparse_categorical_accuracy: 0.7316 - val_loss: 0.7290 - val_sparse_categorical_accuracy: 0.7666\n",
            "Epoch 43/100\n",
            "782/782 [==============================] - 43s 55ms/step - loss: 0.7871 - sparse_categorical_accuracy: 0.7311 - val_loss: 0.7181 - val_sparse_categorical_accuracy: 0.7545\n",
            "Epoch 44/100\n",
            "782/782 [==============================] - 43s 55ms/step - loss: 0.7800 - sparse_categorical_accuracy: 0.7359 - val_loss: 0.6960 - val_sparse_categorical_accuracy: 0.7714\n",
            "Epoch 45/100\n",
            "782/782 [==============================] - 43s 55ms/step - loss: 0.7737 - sparse_categorical_accuracy: 0.7372 - val_loss: 0.7018 - val_sparse_categorical_accuracy: 0.7616\n",
            "Epoch 46/100\n",
            "782/782 [==============================] - 43s 55ms/step - loss: 0.7660 - sparse_categorical_accuracy: 0.7362 - val_loss: 0.6414 - val_sparse_categorical_accuracy: 0.7880\n",
            "Epoch 47/100\n",
            "782/782 [==============================] - 43s 55ms/step - loss: 0.7569 - sparse_categorical_accuracy: 0.7404 - val_loss: 0.6532 - val_sparse_categorical_accuracy: 0.7880\n",
            "Epoch 48/100\n",
            "782/782 [==============================] - 43s 55ms/step - loss: 0.7560 - sparse_categorical_accuracy: 0.7420 - val_loss: 0.6295 - val_sparse_categorical_accuracy: 0.7835\n",
            "Epoch 49/100\n",
            "782/782 [==============================] - 43s 55ms/step - loss: 0.7455 - sparse_categorical_accuracy: 0.7485 - val_loss: 0.5674 - val_sparse_categorical_accuracy: 0.8113\n",
            "Epoch 50/100\n",
            "782/782 [==============================] - 43s 55ms/step - loss: 0.7378 - sparse_categorical_accuracy: 0.7470 - val_loss: 0.6281 - val_sparse_categorical_accuracy: 0.7873\n",
            "Epoch 51/100\n",
            "782/782 [==============================] - 43s 55ms/step - loss: 0.7410 - sparse_categorical_accuracy: 0.7487 - val_loss: 0.6113 - val_sparse_categorical_accuracy: 0.8007\n",
            "Epoch 52/100\n",
            "782/782 [==============================] - 43s 55ms/step - loss: 0.7303 - sparse_categorical_accuracy: 0.7512 - val_loss: 0.6199 - val_sparse_categorical_accuracy: 0.7884\n",
            "Epoch 53/100\n",
            "782/782 [==============================] - 43s 55ms/step - loss: 0.7236 - sparse_categorical_accuracy: 0.7544 - val_loss: 0.6934 - val_sparse_categorical_accuracy: 0.7728\n",
            "Epoch 54/100\n",
            "782/782 [==============================] - 43s 55ms/step - loss: 0.7225 - sparse_categorical_accuracy: 0.7541 - val_loss: 0.5971 - val_sparse_categorical_accuracy: 0.8025\n",
            "Epoch 55/100\n",
            "782/782 [==============================] - 43s 55ms/step - loss: 0.7108 - sparse_categorical_accuracy: 0.7588 - val_loss: 0.6723 - val_sparse_categorical_accuracy: 0.7749\n",
            "Epoch 56/100\n",
            "782/782 [==============================] - 43s 55ms/step - loss: 0.7086 - sparse_categorical_accuracy: 0.7581 - val_loss: 0.5598 - val_sparse_categorical_accuracy: 0.8106\n",
            "Epoch 57/100\n",
            "782/782 [==============================] - 43s 55ms/step - loss: 0.7025 - sparse_categorical_accuracy: 0.7604 - val_loss: 0.6534 - val_sparse_categorical_accuracy: 0.7835\n",
            "Epoch 58/100\n",
            "782/782 [==============================] - 43s 56ms/step - loss: 0.6972 - sparse_categorical_accuracy: 0.7618 - val_loss: 0.6153 - val_sparse_categorical_accuracy: 0.7971\n",
            "Epoch 59/100\n",
            "782/782 [==============================] - 43s 55ms/step - loss: 0.6898 - sparse_categorical_accuracy: 0.7660 - val_loss: 0.5831 - val_sparse_categorical_accuracy: 0.8038\n",
            "Epoch 60/100\n",
            "782/782 [==============================] - 43s 55ms/step - loss: 0.6853 - sparse_categorical_accuracy: 0.7668 - val_loss: 0.7170 - val_sparse_categorical_accuracy: 0.7748\n",
            "Epoch 61/100\n",
            "782/782 [==============================] - 43s 55ms/step - loss: 0.6827 - sparse_categorical_accuracy: 0.7666 - val_loss: 0.5968 - val_sparse_categorical_accuracy: 0.7948\n",
            "Epoch 62/100\n",
            "782/782 [==============================] - 43s 55ms/step - loss: 0.6812 - sparse_categorical_accuracy: 0.7693 - val_loss: 0.5413 - val_sparse_categorical_accuracy: 0.8165\n",
            "Epoch 63/100\n",
            "782/782 [==============================] - 43s 55ms/step - loss: 0.6725 - sparse_categorical_accuracy: 0.7715 - val_loss: 0.5612 - val_sparse_categorical_accuracy: 0.8122\n",
            "Epoch 64/100\n",
            "782/782 [==============================] - 43s 55ms/step - loss: 0.6683 - sparse_categorical_accuracy: 0.7724 - val_loss: 0.5352 - val_sparse_categorical_accuracy: 0.8192\n",
            "Epoch 65/100\n",
            "782/782 [==============================] - 43s 55ms/step - loss: 0.6574 - sparse_categorical_accuracy: 0.7745 - val_loss: 0.6420 - val_sparse_categorical_accuracy: 0.7927\n",
            "Epoch 66/100\n",
            "782/782 [==============================] - 43s 55ms/step - loss: 0.6576 - sparse_categorical_accuracy: 0.7741 - val_loss: 0.5367 - val_sparse_categorical_accuracy: 0.8176\n",
            "Epoch 67/100\n",
            "782/782 [==============================] - 43s 55ms/step - loss: 0.6508 - sparse_categorical_accuracy: 0.7772 - val_loss: 0.6311 - val_sparse_categorical_accuracy: 0.7910\n",
            "Epoch 68/100\n",
            "782/782 [==============================] - 43s 55ms/step - loss: 0.6517 - sparse_categorical_accuracy: 0.7769 - val_loss: 0.5645 - val_sparse_categorical_accuracy: 0.8148\n",
            "Epoch 69/100\n",
            "782/782 [==============================] - 44s 56ms/step - loss: 0.6449 - sparse_categorical_accuracy: 0.7804 - val_loss: 0.7149 - val_sparse_categorical_accuracy: 0.7731\n",
            "Epoch 70/100\n",
            "782/782 [==============================] - 43s 55ms/step - loss: 0.6506 - sparse_categorical_accuracy: 0.7792 - val_loss: 0.6061 - val_sparse_categorical_accuracy: 0.8046\n",
            "Epoch 71/100\n",
            "782/782 [==============================] - 43s 55ms/step - loss: 0.6389 - sparse_categorical_accuracy: 0.7817 - val_loss: 0.6452 - val_sparse_categorical_accuracy: 0.7890\n",
            "Epoch 72/100\n",
            "782/782 [==============================] - 43s 55ms/step - loss: 0.6337 - sparse_categorical_accuracy: 0.7838 - val_loss: 0.5117 - val_sparse_categorical_accuracy: 0.8283\n",
            "Epoch 73/100\n",
            "782/782 [==============================] - 43s 55ms/step - loss: 0.6310 - sparse_categorical_accuracy: 0.7858 - val_loss: 0.5835 - val_sparse_categorical_accuracy: 0.8027\n",
            "Epoch 74/100\n",
            "782/782 [==============================] - 43s 55ms/step - loss: 0.6224 - sparse_categorical_accuracy: 0.7870 - val_loss: 0.5329 - val_sparse_categorical_accuracy: 0.8233\n",
            "Epoch 75/100\n",
            "782/782 [==============================] - 43s 55ms/step - loss: 0.6229 - sparse_categorical_accuracy: 0.7861 - val_loss: 0.5278 - val_sparse_categorical_accuracy: 0.8216\n",
            "Epoch 76/100\n",
            "782/782 [==============================] - 43s 56ms/step - loss: 0.6205 - sparse_categorical_accuracy: 0.7869 - val_loss: 0.5380 - val_sparse_categorical_accuracy: 0.8206\n",
            "Epoch 77/100\n",
            "782/782 [==============================] - 43s 55ms/step - loss: 0.6128 - sparse_categorical_accuracy: 0.7889 - val_loss: 0.5849 - val_sparse_categorical_accuracy: 0.8100\n",
            "Epoch 78/100\n",
            "782/782 [==============================] - 43s 55ms/step - loss: 0.6180 - sparse_categorical_accuracy: 0.7883 - val_loss: 0.5984 - val_sparse_categorical_accuracy: 0.8028\n",
            "Epoch 79/100\n",
            "782/782 [==============================] - 43s 55ms/step - loss: 0.6106 - sparse_categorical_accuracy: 0.7896 - val_loss: 0.4789 - val_sparse_categorical_accuracy: 0.8416\n",
            "Epoch 80/100\n",
            "782/782 [==============================] - 43s 55ms/step - loss: 0.6085 - sparse_categorical_accuracy: 0.7918 - val_loss: 0.4810 - val_sparse_categorical_accuracy: 0.8400\n",
            "Epoch 81/100\n",
            "782/782 [==============================] - 43s 55ms/step - loss: 0.6073 - sparse_categorical_accuracy: 0.7918 - val_loss: 0.5238 - val_sparse_categorical_accuracy: 0.8220\n",
            "Epoch 82/100\n",
            "782/782 [==============================] - 43s 55ms/step - loss: 0.5962 - sparse_categorical_accuracy: 0.7963 - val_loss: 0.6682 - val_sparse_categorical_accuracy: 0.7889\n",
            "Epoch 83/100\n",
            "782/782 [==============================] - 43s 55ms/step - loss: 0.5956 - sparse_categorical_accuracy: 0.7952 - val_loss: 0.5732 - val_sparse_categorical_accuracy: 0.8157\n",
            "Epoch 84/100\n",
            "782/782 [==============================] - 43s 55ms/step - loss: 0.5904 - sparse_categorical_accuracy: 0.7974 - val_loss: 0.5554 - val_sparse_categorical_accuracy: 0.8196\n",
            "Epoch 85/100\n",
            "782/782 [==============================] - 43s 55ms/step - loss: 0.5931 - sparse_categorical_accuracy: 0.7965 - val_loss: 0.5757 - val_sparse_categorical_accuracy: 0.8149\n",
            "Epoch 86/100\n",
            "782/782 [==============================] - 43s 55ms/step - loss: 0.5922 - sparse_categorical_accuracy: 0.7954 - val_loss: 0.4860 - val_sparse_categorical_accuracy: 0.8349\n",
            "Epoch 87/100\n",
            "782/782 [==============================] - 43s 55ms/step - loss: 0.5824 - sparse_categorical_accuracy: 0.7990 - val_loss: 0.5908 - val_sparse_categorical_accuracy: 0.8061\n",
            "Epoch 88/100\n",
            "782/782 [==============================] - 43s 55ms/step - loss: 0.5799 - sparse_categorical_accuracy: 0.8004 - val_loss: 0.5284 - val_sparse_categorical_accuracy: 0.8237\n",
            "Epoch 89/100\n",
            "782/782 [==============================] - 47s 60ms/step - loss: 0.5739 - sparse_categorical_accuracy: 0.8044 - val_loss: 0.4445 - val_sparse_categorical_accuracy: 0.8539\n",
            "Epoch 90/100\n",
            "782/782 [==============================] - 44s 56ms/step - loss: 0.5734 - sparse_categorical_accuracy: 0.8042 - val_loss: 0.4665 - val_sparse_categorical_accuracy: 0.8467\n",
            "Epoch 91/100\n",
            "782/782 [==============================] - 44s 56ms/step - loss: 0.5717 - sparse_categorical_accuracy: 0.8029 - val_loss: 0.4801 - val_sparse_categorical_accuracy: 0.8417\n",
            "Epoch 92/100\n",
            "782/782 [==============================] - 43s 55ms/step - loss: 0.5700 - sparse_categorical_accuracy: 0.8048 - val_loss: 0.4757 - val_sparse_categorical_accuracy: 0.8403\n",
            "Epoch 93/100\n",
            "782/782 [==============================] - 43s 56ms/step - loss: 0.5664 - sparse_categorical_accuracy: 0.8052 - val_loss: 0.4497 - val_sparse_categorical_accuracy: 0.8459\n",
            "Epoch 94/100\n",
            "782/782 [==============================] - 43s 56ms/step - loss: 0.5618 - sparse_categorical_accuracy: 0.8060 - val_loss: 0.5659 - val_sparse_categorical_accuracy: 0.8112\n",
            "Epoch 95/100\n",
            "782/782 [==============================] - 43s 56ms/step - loss: 0.5598 - sparse_categorical_accuracy: 0.8095 - val_loss: 0.5317 - val_sparse_categorical_accuracy: 0.8229\n",
            "Epoch 96/100\n",
            "782/782 [==============================] - 43s 55ms/step - loss: 0.5509 - sparse_categorical_accuracy: 0.8105 - val_loss: 0.5197 - val_sparse_categorical_accuracy: 0.8318\n",
            "Epoch 97/100\n",
            "782/782 [==============================] - 44s 56ms/step - loss: 0.5499 - sparse_categorical_accuracy: 0.8107 - val_loss: 0.4100 - val_sparse_categorical_accuracy: 0.8592\n",
            "Epoch 98/100\n",
            "782/782 [==============================] - 44s 56ms/step - loss: 0.5469 - sparse_categorical_accuracy: 0.8119 - val_loss: 0.4869 - val_sparse_categorical_accuracy: 0.8371\n",
            "Epoch 99/100\n",
            "782/782 [==============================] - 43s 56ms/step - loss: 0.5449 - sparse_categorical_accuracy: 0.8113 - val_loss: 0.5000 - val_sparse_categorical_accuracy: 0.8351\n",
            "Epoch 100/100\n",
            "782/782 [==============================] - 43s 55ms/step - loss: 0.5427 - sparse_categorical_accuracy: 0.8144 - val_loss: 0.5374 - val_sparse_categorical_accuracy: 0.8219\n"
          ],
          "name": "stdout"
        }
      ]
    },
    {
      "cell_type": "code",
      "metadata": {
        "id": "yd62UzW324I7",
        "colab_type": "code",
        "colab": {
          "base_uri": "https://localhost:8080/",
          "height": 232
        },
        "outputId": "4424085c-ab46-41c3-c792-a58a4b6e1ef1"
      },
      "source": [
        "\n",
        "# model.save(os.path.join(h5_model_save_path)\n",
        "# np.set_printoptions(threshold=np.inf)\n",
        "# 保存模型参数到txt文件中\n",
        "file = open('./vgg_weights.txt', 'w')\n",
        "for value in model.trainable_variables:\n",
        "    file.write(str(value.name) + '\\n')\n",
        "    file.write(str(value.shape) + '\\n')\n",
        "    file.write(str(value.numpy()) + '\\n')\n",
        "\n",
        "file.close()\n",
        "\n",
        "model.summary()"
      ],
      "execution_count": 1,
      "outputs": [
        {
          "output_type": "error",
          "ename": "NameError",
          "evalue": "ignored",
          "traceback": [
            "\u001b[0;31m---------------------------------------------------------------------------\u001b[0m",
            "\u001b[0;31mNameError\u001b[0m                                 Traceback (most recent call last)",
            "\u001b[0;32m<ipython-input-1-bec50b29e6a2>\u001b[0m in \u001b[0;36m<module>\u001b[0;34m()\u001b[0m\n\u001b[1;32m      1\u001b[0m \u001b[0mfile\u001b[0m \u001b[0;34m=\u001b[0m \u001b[0mopen\u001b[0m\u001b[0;34m(\u001b[0m\u001b[0;34m'./vgg_weights.txt'\u001b[0m\u001b[0;34m,\u001b[0m \u001b[0;34m'w'\u001b[0m\u001b[0;34m)\u001b[0m\u001b[0;34m\u001b[0m\u001b[0;34m\u001b[0m\u001b[0m\n\u001b[0;32m----> 2\u001b[0;31m \u001b[0;32mfor\u001b[0m \u001b[0mvalue\u001b[0m \u001b[0;32min\u001b[0m \u001b[0mmodel\u001b[0m\u001b[0;34m.\u001b[0m\u001b[0mtrainable_variables\u001b[0m\u001b[0;34m:\u001b[0m\u001b[0;34m\u001b[0m\u001b[0;34m\u001b[0m\u001b[0m\n\u001b[0m\u001b[1;32m      3\u001b[0m     \u001b[0mfile\u001b[0m\u001b[0;34m.\u001b[0m\u001b[0mwrite\u001b[0m\u001b[0;34m(\u001b[0m\u001b[0mstr\u001b[0m\u001b[0;34m(\u001b[0m\u001b[0mvalue\u001b[0m\u001b[0;34m.\u001b[0m\u001b[0mname\u001b[0m\u001b[0;34m)\u001b[0m \u001b[0;34m+\u001b[0m \u001b[0;34m'\\n'\u001b[0m\u001b[0;34m)\u001b[0m\u001b[0;34m\u001b[0m\u001b[0;34m\u001b[0m\u001b[0m\n\u001b[1;32m      4\u001b[0m     \u001b[0mfile\u001b[0m\u001b[0;34m.\u001b[0m\u001b[0mwrite\u001b[0m\u001b[0;34m(\u001b[0m\u001b[0mstr\u001b[0m\u001b[0;34m(\u001b[0m\u001b[0mvalue\u001b[0m\u001b[0;34m.\u001b[0m\u001b[0mshape\u001b[0m\u001b[0;34m)\u001b[0m \u001b[0;34m+\u001b[0m \u001b[0;34m'\\n'\u001b[0m\u001b[0;34m)\u001b[0m\u001b[0;34m\u001b[0m\u001b[0;34m\u001b[0m\u001b[0m\n\u001b[1;32m      5\u001b[0m     \u001b[0mfile\u001b[0m\u001b[0;34m.\u001b[0m\u001b[0mwrite\u001b[0m\u001b[0;34m(\u001b[0m\u001b[0mstr\u001b[0m\u001b[0;34m(\u001b[0m\u001b[0mvalue\u001b[0m\u001b[0;34m.\u001b[0m\u001b[0mnumpy\u001b[0m\u001b[0;34m(\u001b[0m\u001b[0;34m)\u001b[0m\u001b[0;34m)\u001b[0m \u001b[0;34m+\u001b[0m \u001b[0;34m'\\n'\u001b[0m\u001b[0;34m)\u001b[0m\u001b[0;34m\u001b[0m\u001b[0;34m\u001b[0m\u001b[0m\n",
            "\u001b[0;31mNameError\u001b[0m: name 'model' is not defined"
          ]
        }
      ]
    },
    {
      "cell_type": "code",
      "metadata": {
        "id": "b79XJSYa4aL5",
        "colab_type": "code",
        "colab": {
          "base_uri": "https://localhost:8080/",
          "height": 499
        },
        "outputId": "602cca6c-2668-4b54-a4c2-09bfe6baf690"
      },
      "source": [
        "# 显示训练集和验证集的acc和loss曲线\n",
        "\n",
        "from matplotlib import pyplot as plt\n",
        "\n",
        "acc = history.history['sparse_categorical_accuracy']\n",
        "val_acc = history.history['val_sparse_categorical_accuracy']\n",
        "\n",
        "loss = history.history['loss']\n",
        "val_loss = history.history['val_loss']\n",
        "\n",
        "plt.figure(figsize=(8, 8))\n",
        "plt.subplot(2, 1, 1)\n",
        "plt.plot(acc, label='Training Accuracy')\n",
        "plt.plot(val_acc, label='Validation Accuracy')\n",
        "plt.legend(loc='lower right')\n",
        "plt.title('Training and Validation Accuracy')\n",
        "\n",
        "plt.subplot(2, 1, 2)\n",
        "plt.plot(loss, label='Training Loss')\n",
        "plt.plot(val_loss, label='Validation Loss')\n",
        "plt.legend(loc='upper right')\n",
        "plt.title('Training and Validation Loss')\n",
        "plt.show()"
      ],
      "execution_count": 50,
      "outputs": [
        {
          "output_type": "display_data",
          "data": {
            "image/png": "[encoded data removed]",
            "text/plain": [
              "<Figure size 576x576 with 2 Axes>"
            ]
          },
          "metadata": {
            "tags": []
          }
        }
      ]
    },
    {
      "cell_type": "code",
      "metadata": {
        "id": "nZunaVRL5hsk",
        "colab_type": "code",
        "colab": {
          "base_uri": "https://localhost:8080/",
          "height": 470
        },
        "outputId": "0ed36935-6fc5-4eec-c60a-3a5952e973ff"
      },
      "source": [
        "from tensorflow.python.client import device_lib\n",
        "device_lib.list_local_devices()"
      ],
      "execution_count": 51,
      "outputs": [
        {
          "output_type": "execute_result",
          "data": {
            "text/plain": [
              "[name: \"/device:CPU:0\"\n",
              " device_type: \"CPU\"\n",
              " memory_limit: 268435456\n",
              " locality {\n",
              " }\n",
              " incarnation: 5350645100431627431, name: \"/device:XLA_CPU:0\"\n",
              " device_type: \"XLA_CPU\"\n",
              " memory_limit: 17179869184\n",
              " locality {\n",
              " }\n",
              " incarnation: 18333510912737472955\n",
              " physical_device_desc: \"device: XLA_CPU device\", name: \"/device:XLA_GPU:0\"\n",
              " device_type: \"XLA_GPU\"\n",
              " memory_limit: 17179869184\n",
              " locality {\n",
              " }\n",
              " incarnation: 372622955319064048\n",
              " physical_device_desc: \"device: XLA_GPU device\", name: \"/device:GPU:0\"\n",
              " device_type: \"GPU\"\n",
              " memory_limit: 15956161332\n",
              " locality {\n",
              "   bus_id: 1\n",
              "   links {\n",
              "   }\n",
              " }\n",
              " incarnation: 11018244898617974173\n",
              " physical_device_desc: \"device: 0, name: Tesla P100-PCIE-16GB, pci bus id: 0000:00:04.0, compute capability: 6.0\"]"
            ]
          },
          "metadata": {
            "tags": []
          },
          "execution_count": 51
        }
      ]
    },
    {
      "cell_type": "code",
      "metadata": {
        "id": "U6ro9oFbPTkM",
        "colab_type": "code",
        "colab": {}
      },
      "source": [
        "from google.colab import files\n",
        "files.download('vgg_weights.txt')"
      ],
      "execution_count": 0,
      "outputs": []
    }
  ]
}